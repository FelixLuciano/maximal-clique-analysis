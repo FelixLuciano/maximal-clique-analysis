{
 "cells": [
  {
   "cell_type": "markdown",
   "metadata": {},
   "source": [
    "# Análise de Clique Máximo"
   ]
  },
  {
   "cell_type": "markdown",
   "metadata": {},
   "source": [
    "## Começando"
   ]
  },
  {
   "cell_type": "markdown",
   "metadata": {},
   "source": [
    "### Dependências"
   ]
  },
  {
   "cell_type": "code",
   "execution_count": null,
   "metadata": {},
   "outputs": [],
   "source": [
    "!mkdir output\n",
    "!pip install -r requirements.txt"
   ]
  },
  {
   "cell_type": "code",
   "execution_count": null,
   "metadata": {},
   "outputs": [],
   "source": [
    "import subprocess\n",
    "\n",
    "from matplotlib import pyplot as plt"
   ]
  },
  {
   "cell_type": "markdown",
   "metadata": {},
   "source": [
    "### Construindo grafos\n",
    "\n",
    "A complexidade do algorítimo do clique máximo cresce conforme o tamanho da rede, que é medida na quantidade de arestas.\n",
    "\n",
    "Dado um número de vértices e a densidade da rede, gera uma série de arquivos contendo as arestas de redes geradas aleatóriamente."
   ]
  },
  {
   "cell_type": "code",
   "execution_count": null,
   "metadata": {},
   "outputs": [],
   "source": [
    "n_vertices = (5, 10, 20, 50, 75, 100, 120, 150, 200, 500, 1000, 2000, 4000, 8000, 10_000)\n",
    "densities = (.3, .5, .7)\n",
    "\n",
    "for n in n_vertices:\n",
    "    for i, d in enumerate(densities):\n",
    "        subprocess.call([\"./utils/make-graph.py\", str(n), str(d), \"-o\", f\"output/graph-{n}-{i+1}.txt\"])"
   ]
  },
  {
   "cell_type": "markdown",
   "metadata": {},
   "source": [
    "### Limpeza de arquivos\n",
    "\n",
    "**Atenção!** Somente execute a próxima célula caso deseje limpar os arquivos de redes geradas anteriormente."
   ]
  },
  {
   "cell_type": "code",
   "execution_count": null,
   "metadata": {},
   "outputs": [],
   "source": [
    "!rm output/graph-*"
   ]
  },
  {
   "cell_type": "markdown",
   "metadata": {},
   "source": [
    "### Visualização e checagem de cliques\n",
    "\n",
    "Um clique é um grupo de vértices onde há a maior densidade de arestas. Para identificar isso, consideramos uma matriz quadrada de ordem $n$, onde $n$ é o número de vértices representados pela matriz. A submatriz correspondente, formada pelas linhas e colunas dessa matriz, deve estar completamente preenchida, exceto pela diagonal de identidade.\n",
    "\n",
    "Para facilitar essa verificação, os seguintes programas ajudam a visualizar e checar um arquivo junto com a sequência de vértices do grafo. Estes programas auxiliam na identificação e validação de cliques."
   ]
  },
  {
   "cell_type": "code",
   "execution_count": null,
   "metadata": {},
   "outputs": [],
   "source": [
    "!c++ -Ofast -Wall -pedantic utils/view-clique.cpp -o output/view-clique.out\n",
    "!c++ -Ofast -Wall -pedantic utils/check-clique.cpp -o output/check-clique.out"
   ]
  },
  {
   "cell_type": "markdown",
   "metadata": {},
   "source": [
    "## Abordagem exaustiva: Algoritmo de Bron-Kerbosch"
   ]
  },
  {
   "cell_type": "markdown",
   "metadata": {},
   "source": [
    "A implementação da abordagem exaustiva seguiu o algoritmo de Born-Kerbosch apresentado pelo artigo de F. Cazals e C. Karande (2008). Este é um algorítmo de busca recursiva"
   ]
  },
  {
   "cell_type": "code",
   "execution_count": null,
   "metadata": {},
   "outputs": [],
   "source": [
    "!c++ -Ofast -Wall -pedantic src/main.cpp src/exaustive-bron-kerbosch.cpp -o output/exaustive-recursive.out"
   ]
  },
  {
   "cell_type": "code",
   "execution_count": null,
   "metadata": {},
   "outputs": [],
   "source": [
    "filename = \"output/graph-75-3.txt\""
   ]
  },
  {
   "cell_type": "code",
   "execution_count": null,
   "metadata": {},
   "outputs": [],
   "source": [
    "subprocess.call([\"./output/exaustive-recursive.out\", filename])"
   ]
  },
  {
   "cell_type": "code",
   "execution_count": null,
   "metadata": {},
   "outputs": [],
   "source": [
    "output = (\"2\", \"4\", \"7\", \"9\", \"17\", \"19\", \"21\", \"44\", \"48\", \"51\", \"58\", \"59\", \"63\", \"71\")\n",
    "\n",
    "subprocess.call([\"./output/view-clique.out\", filename, *output])\n",
    "subprocess.call([\"./output/check-clique.out\", filename, *output])"
   ]
  },
  {
   "cell_type": "markdown",
   "metadata": {},
   "source": [
    "# Abordagem não exaustiva: Heuristica gulosa\n",
    "\n",
    "Refletindo sobre o problma do Clique máximo, tive a impressão de não haver necessidade de buscar em grande profundidade para encontrar a resposta. Dado que o clique trata-se de um sub-conjunto comum entre linhas/colunas da matriz, a primeira impressão que tive foi que a intercessão entre as linhas do clique máximo deve ser o máximo global e similar entre eles. Para implementar este algoritmo, segui o seguinte pseudocódigo:\n",
    "\n",
    "```\n",
    "Cria um vetor de clique máximo\n",
    "\n",
    "atribui valor 1 a diagonal de identidade da matriz\n",
    "\n",
    "Para cada linha de um vértice da matriz:\n",
    "    Cria uma lista de intercessões cujo:\n",
    "        Vértice vizinho\n",
    "        Valor de Degree, inicialmente nulo\n",
    "        Resultado da intercessão entre a linha do vértice e as linhas de cada vértice vizinho\n",
    "\n",
    "    Para cada combinação entre os vértices vizinhos:\n",
    "        Obtém o vértice vizinho e seu maior grau de similaridade com outro vizinho\n",
    "        Atualiza o valor de degree do respectivo vértice na lista de intercessões\n",
    "    \n",
    "    Ordena de modo decrescente a lista de intercessões conforme o valor de degree\n",
    "\n",
    "    Cria vetor de clique do tamanho de uma linha da matriz preenchido com 1\n",
    "\n",
    "    Para cada intercessão:\n",
    "        Caso a coluna do vértice no vetor de clique seja 0:\n",
    "            pula esta intercessão\n",
    "        \n",
    "        Caso contrário:\n",
    "            Atualiza o vetor clique com a intercessão em operação lógica E\n",
    "    \n",
    "    Cria vetor de vértices\n",
    "\n",
    "    Para cada coluna do vetor de clique:\n",
    "        Caso a coluna seja 1:\n",
    "            Adiciona ao vetor de vértices o índice da coluna\n",
    "    \n",
    "    Caso o vetor de vértices seja maior que o vetor de clique máximo:\n",
    "        Atribui o vetor de clique máximo como o atual vetor de vértices\n",
    "\n",
    "restaura a diagonal de identidade da matriz\n",
    "\n",
    "Reporta o vetor de clique máximo como resposta\n",
    "```"
   ]
  },
  {
   "cell_type": "code",
   "execution_count": null,
   "metadata": {},
   "outputs": [],
   "source": [
    "!c++ -Ofast -Wall -pedantic -fopenmp src/main.cpp src/heuristic-greedy-omp.cpp -o output/heuristic-greedy-omp.out"
   ]
  },
  {
   "cell_type": "code",
   "execution_count": null,
   "metadata": {},
   "outputs": [],
   "source": [
    "subprocess.call([\"./output/heuristic-greedy-omp.out\", filename])"
   ]
  },
  {
   "cell_type": "code",
   "execution_count": null,
   "metadata": {},
   "outputs": [],
   "source": [
    "output = (\"2\", \"4\", \"17\", \"21\", \"22\", \"26\", \"44\", \"47\", \"49\", \"51\", \"63\", \"65\", \"71\")\n",
    "\n",
    "subprocess.call([\"./output/view-clique.out\", filename, *output])\n",
    "subprocess.call([\"./output/check-clique.out\", filename, *output])"
   ]
  },
  {
   "cell_type": "code",
   "execution_count": null,
   "metadata": {},
   "outputs": [],
   "source": [
    "for n in n_vertices[:10]:\n",
    "    for i in range(1, 4):\n",
    "        subprocess.call([\"./output/exaustive-recursive.out\", f\"output/graph-{n}-{i}.txt\"])"
   ]
  },
  {
   "cell_type": "code",
   "execution_count": null,
   "metadata": {},
   "outputs": [],
   "source": [
    "cliques = [\n",
    "    [\"2\", \"4\", \"5\"],\n",
    "    [\"1\", \"3\", \"4\"],\n",
    "    [\"1\", \"3\"],\n",
    "    [\"4\", \"5\", \"7\"],\n",
    "    [\"3\", \"4\", \"6\", \"10\"],\n",
    "    [\"1\", \"2\", \"3\", \"4\", \"6\"],\n",
    "    [\"1\", \"6\", \"12\", \"19\"],\n",
    "    [\"2\", \"8\", \"12\", \"14\", \"18\", \"20\"],\n",
    "    [\"4\", \"5\", \"7\", \"8\", \"12\", \"13\", \"17\", \"20\"],\n",
    "    [\"5\", \"28\", \"31\", \"42\", \"49\"],\n",
    "    [\"1\", \"6\", \"9\", \"10\", \"29\", \"30\", \"35\"],\n",
    "    [\"2\", \"3\", \"10\", \"15\", \"17\", \"18\", \"24\", \"25\", \"27\", \"31\", \"35\"],\n",
    "    [\"7\", \"11\", \"22\", \"48\", \"63\", \"64\"],\n",
    "    [\"1\", \"13\", \"21\", \"32\", \"45\", \"49\", \"52\", \"58\", \"71\"],\n",
    "    [\"2\", \"4\", \"7\", \"9\", \"17\", \"19\", \"21\", \"44\", \"48\", \"51\", \"58\", \"59\", \"63\", \"71\"],\n",
    "    [\"1\", \"41\", \"52\", \"56\", \"57\", \"73\"],\n",
    "    [\"2\", \"4\", \"8\", \"41\", \"45\", \"74\", \"75\", \"84\", \"87\"],\n",
    "    [\"17\", \"21\", \"31\", \"38\", \"40\", \"42\", \"57\", \"58\", \"64\", \"67\", \"69\", \"73\", \"75\", \"83\", \"92\"],\n",
    "    [\"1\", \"16\", \"34\", \"41\", \"67\", \"74\"],\n",
    "    [\"6\", \"15\", \"26\", \"29\", \"30\", \"36\", \"59\", \"84\", \"97\", \"118\"],\n",
    "    [\"2\", \"8\", \"10\", \"15\", \"31\", \"32\", \"35\", \"38\", \"44\", \"47\", \"57\", \"78\", \"99\", \"111\", \"120\"],\n",
    "    [\"7\", \"31\", \"34\", \"83\", \"90\", \"128\", \"145\"],\n",
    "    [\"7\", \"67\", \"84\", \"86\", \"94\", \"97\", \"106\", \"126\", \"138\", \"142\"],\n",
    "    [\"2\", \"7\", \"12\", \"16\", \"20\", \"23\", \"32\", \"37\", \"67\", \"76\", \"88\", \"113\", \"132\", \"139\", \"144\", \"148\"],\n",
    "]\n",
    "\n",
    "i = 0\n",
    "for n in n_vertices[:8]:\n",
    "    for j in range(1, 4):\n",
    "        subprocess.call([\"./output/check-clique.out\", f\"output/graph-{n}-{j}.txt\", *cliques[i]])\n",
    "        print()\n",
    "\n",
    "        i += 1"
   ]
  },
  {
   "cell_type": "code",
   "execution_count": null,
   "metadata": {},
   "outputs": [],
   "source": [
    "for n in n_vertices:\n",
    "    for j in range(1, 4):\n",
    "        subprocess.call([\"./output/heuristic-greedy-omp.out\", f\"output/graph-{n}-{i+1}.txt\"])"
   ]
  },
  {
   "cell_type": "code",
   "execution_count": null,
   "metadata": {},
   "outputs": [],
   "source": [
    "cliques = [\n",
    "    [\"2\", \"4\", \"5\"],\n",
    "    [\"1\", \"3\", \"4\"],\n",
    "    [\"1\", \"3\"],\n",
    "    [\"4\", \"5\", \"7\"],\n",
    "    [\"3\", \"4\", \"6\", \"10\"],\n",
    "    [\"1\", \"2\", \"3\", \"4\", \"6\"],\n",
    "    [\"1\", \"6\", \"12\", \"19\"],\n",
    "    [\"2\", \"8\", \"12\", \"14\", \"18\", \"20\"],\n",
    "    [\"5\", \"7\", \"8\", \"12\", \"13\", \"15\", \"17\", \"20\"],\n",
    "    [\"6\", \"7\", \"18\", \"27\", \"48\"],\n",
    "    [\"4\", \"9\", \"10\", \"11\", \"17\", \"23\", \"32\"],\n",
    "    [\"2\", \"3\", \"10\", \"15\", \"17\", \"18\", \"24\", \"25\", \"27\", \"31\", \"35\"],\n",
    "    [\"7\", \"11\", \"22\", \"48\", \"63\", \"64\"],\n",
    "    [\"13\", \"21\", \"31\", \"32\", \"45\", \"52\", \"55\", \"64\", \"67\"],\n",
    "    [\"2\", \"4\", \"17\", \"21\", \"22\", \"26\", \"44\", \"47\", \"49\", \"51\", \"63\", \"65\", \"71\"],\n",
    "    [\"1\", \"41\", \"52\", \"56\", \"57\", \"73\"],\n",
    "    [\"6\", \"8\", \"9\", \"41\", \"67\", \"78\", \"80\", \"84\", \"87\"],\n",
    "    [\"2\", \"4\", \"10\", \"13\", \"16\", \"17\", \"21\", \"36\", \"46\", \"64\", \"69\", \"78\", \"85\", \"88\"],\n",
    "    [\"4\", \"7\", \"17\", \"24\", \"40\", \"83\"],\n",
    "    [\"6\", \"15\", \"26\", \"29\", \"30\", \"36\", \"59\", \"84\", \"97\", \"118\"],\n",
    "    [\"7\", \"11\", \"13\", \"15\", \"24\", \"30\", \"33\", \"48\", \"52\", \"59\", \"62\", \"64\", \"98\", \"101\"],\n",
    "    [\"7\", \"34\", \"60\", \"65\", \"128\", \"145\", \"146\"],\n",
    "    [\"7\", \"67\", \"84\", \"86\", \"94\", \"97\", \"106\", \"126\", \"138\", \"142\"],\n",
    "    [\"4\", \"10\", \"17\", \"27\", \"28\", \"31\", \"37\", \"40\", \"48\", \"52\", \"56\", \"71\", \"90\", \"110\", \"115\", \"127\"],\n",
    "    [\"13\", \"70\", \"99\", \"132\", \"138\", \"144\", \"149\"],\n",
    "    [\"1\", \"5\", \"33\", \"57\", \"83\", \"92\", \"104\", \"143\", \"161\", \"172\", \"174\"],\n",
    "    [\"14\", \"19\", \"40\", \"48\", \"62\", \"84\", \"85\", \"86\", \"96\", \"124\", \"138\", \"147\", \"150\", \"177\", \"186\", \"194\", \"196\"],\n",
    "    [\"21\", \"55\", \"121\", \"149\", \"157\", \"361\", \"421\", \"430\", \"462\"],\n",
    "    [\"2\", \"30\", \"45\", \"66\", \"159\", \"171\", \"173\", \"188\", \"243\", \"328\", \"477\", \"486\"],\n",
    "    [\"82\", \"127\", \"129\", \"145\", \"174\", \"200\", \"208\", \"234\", \"238\", \"274\", \"300\", \"305\", \"322\", \"373\", \"421\", \"438\", \"450\", \"455\", \"467\", \"499\"],\n",
    "    [\"63\", \"123\", \"294\", \"362\", \"434\", \"446\", \"498\", \"707\", \"911\"],\n",
    "    [\"24\", \"31\", \"223\", \"418\", \"439\", \"445\", \"569\", \"672\", \"743\", \"766\", \"770\", \"784\", \"806\", \"815\"],\n",
    "    [\"4\", \"42\", \"75\", \"102\", \"119\", \"252\", \"272\", \"343\", \"364\", \"383\", \"450\", \"453\", \"526\", \"570\", \"609\", \"611\", \"660\", \"737\", \"807\", \"809\", \"820\", \"830\", \"997\"]\n",
    "]\n",
    "\n",
    "i = 0\n",
    "for n in n_vertices:\n",
    "    for j in range(1, 4):\n",
    "        subprocess.call([\"./output/check-clique.out\", f\"output/graph-{n}-{j}.txt\", *cliques[i]])\n",
    "        print()\n",
    "\n",
    "        i += 1"
   ]
  },
  {
   "cell_type": "code",
   "execution_count": null,
   "metadata": {},
   "outputs": [],
   "source": [
    "exaustive_times = [\n",
    "    [                   # 30%\n",
    "        6.5e-06,\n",
    "        1.81e-05,\n",
    "        4.69e-05,\n",
    "        0.0005088,\n",
    "        0.0014128,\n",
    "        0.004301,\n",
    "        0.0052875,\n",
    "        0.0143867,\n",
    "        0.2026426,\n",
    "    ], [                # 50%\n",
    "        1.18e-05,\n",
    "        2.84e-05,\n",
    "        0.0001327,\n",
    "        0.0054866,\n",
    "        0.0260184,\n",
    "        0.0901806,\n",
    "        0.261848,\n",
    "        0.624345,\n",
    "        4.21486,\n",
    "    ], [                # 70%\n",
    "        9.7e-06,\n",
    "        6.37e-05,\n",
    "        0.000592,\n",
    "        0.0962623,\n",
    "        1.71182,\n",
    "        23.614,\n",
    "        70.7898,\n",
    "        528.571,\n",
    "        1710.21486,\n",
    "    ]\n",
    "]\n",
    "\n",
    "heuristic_times = [\n",
    "    [                 # 30%\n",
    "        2.42e-05,\n",
    "        1.8e-05,\n",
    "        6.76e-05,\n",
    "        0.0011064,\n",
    "        0.0039671,\n",
    "        0.0119158,\n",
    "        0.0171206,\n",
    "        0.0447335,\n",
    "        0.153038,\n",
    "        5.49881,\n",
    "        109.556,\n",
    "    ], [                # 50%\n",
    "        6e-06,\n",
    "        2.07e-05,\n",
    "        0.0001302,\n",
    "        0.0037844,\n",
    "        0.013491,\n",
    "        0.0330012,\n",
    "        0.0630392,\n",
    "        0.178818,\n",
    "        0.66576,\n",
    "        25.124,\n",
    "        441.767,\n",
    "    ], [                # 70%\n",
    "        7.2e-06,\n",
    "        3.35e-05,\n",
    "        0.0002248,\n",
    "        0.0048463,\n",
    "        0.026808,\n",
    "        0.094127,\n",
    "        0.188273,\n",
    "        0.559523,\n",
    "        1.87388,\n",
    "        83.4311,\n",
    "        1183.84,\n",
    "    ]\n",
    "]\n",
    "\n",
    "plt.style.use('seaborn')\n",
    "plt.figure(figsize=(16, 9))\n",
    "plt.title(\"Execution time by amount of edges\")\n",
    "\n",
    "for i, d in enumerate(densities):\n",
    "    y = exaustive_times[i]\n",
    "    x = [(n * (n-1)) * d for n in n_vertices[0:len(y)]]\n",
    "\n",
    "    plt.plot(x, y, label=f\"Exaustive ({d}%)\")\n",
    "\n",
    "for i, d in enumerate(densities):\n",
    "    y = heuristic_times[i]\n",
    "    x = [(n * (n-1)) * d for n in n_vertices[0:len(y)]]\n",
    "\n",
    "    plt.plot(x, y, label=f\"Exaustive ({d}%)\")\n",
    "\n",
    "plt.xlabel(\"# of edges\")\n",
    "plt.ylabel(\"time (s)\")\n",
    "plt.legend()"
   ]
  },
  {
   "cell_type": "code",
   "execution_count": null,
   "metadata": {},
   "outputs": [],
   "source": []
  }
 ],
 "metadata": {
  "kernelspec": {
   "display_name": "Python 3 (ipykernel)",
   "language": "python",
   "name": "python3"
  },
  "language_info": {
   "codemirror_mode": {
    "name": "ipython",
    "version": 3
   },
   "file_extension": ".py",
   "mimetype": "text/x-python",
   "name": "python",
   "nbconvert_exporter": "python",
   "pygments_lexer": "ipython3",
   "version": "3.11.7"
  },
  "orig_nbformat": 4
 },
 "nbformat": 4,
 "nbformat_minor": 2
}
