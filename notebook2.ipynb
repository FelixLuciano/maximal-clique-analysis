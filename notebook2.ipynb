{
 "cells": [
  {
   "cell_type": "code",
   "execution_count": null,
   "metadata": {},
   "outputs": [],
   "source": [
    "!mkdir output\n",
    "!pip install -r requirements.txt"
   ]
  },
  {
   "cell_type": "code",
   "execution_count": 1,
   "metadata": {},
   "outputs": [],
   "source": [
    "import subprocess\n",
    "\n",
    "from matplotlib import pyplot as plt"
   ]
  },
  {
   "cell_type": "code",
   "execution_count": null,
   "metadata": {},
   "outputs": [],
   "source": [
    "!c++ -Ofast -Wall -pedantic utils/view-clique.cpp -o output/view-clique.out\n",
    "!c++ -Ofast -Wall -pedantic utils/check-clique.cpp -o output/check-clique.out"
   ]
  },
  {
   "cell_type": "code",
   "execution_count": 296,
   "metadata": {},
   "outputs": [],
   "source": [
    "def check(executable, filename, view = False):\n",
    "    process = subprocess.run([executable, filename], capture_output=True, text=True)\n",
    "    result = process.stdout.split(\"\\n\")\n",
    "    args = result[0].split(\", \")\n",
    "    indx = result[2].index(\":\") + 2\n",
    "    sptime = float(result[2][indx: result[2].index(\" \", indx)])\n",
    "\n",
    "    if view:\n",
    "        subprocess.call([\"./output/view-clique.out\", filename, *args])\n",
    "\n",
    "    process = subprocess.run([\"./output/check-clique.out\", filename, *args], capture_output=True, text=True)\n",
    "    result = process.stdout.split(\"\\n\")\n",
    "\n",
    "    status = result[2].find(\"PASS\") > 0\n",
    "    size = int(result[1][10:])\n",
    "\n",
    "    return status, sptime, size, args\n"
   ]
  },
  {
   "cell_type": "code",
   "execution_count": 310,
   "metadata": {},
   "outputs": [],
   "source": [
    "!c++ -Ofast -Wall -pedantic -fopenmp src/main.cpp src/heuristic-greedy-omp.cpp -o output/heuristic-greedy-omp.out"
   ]
  },
  {
   "cell_type": "code",
   "execution_count": 313,
   "metadata": {},
   "outputs": [],
   "source": [
    "filename = \"output/graph-120-3.txt\""
   ]
  },
  {
   "cell_type": "code",
   "execution_count": 315,
   "metadata": {},
   "outputs": [],
   "source": [
    "filename = \"test/gen200_p0.9_55.clq\""
   ]
  },
  {
   "cell_type": "code",
   "execution_count": 317,
   "metadata": {},
   "outputs": [],
   "source": [
    "filename = \"test/brock400_2.clq\""
   ]
  },
  {
   "cell_type": "code",
   "execution_count": 318,
   "metadata": {},
   "outputs": [
    {
     "name": "stdout",
     "output_type": "stream",
     "text": [
      " 36  -    X X X X X X X X X X X X X X X X X X X X X X X \n",
      " 44  -  X   X X X X X X X X X X X X X X X X X X X X X X \n",
      " 57  -  X X   X X X X X X X X X X X X X X X X X X X X X \n",
      "107  -  X X X   X X X X X X X X X X X X X X X X X X X X \n",
      "131  -  X X X X   X X X X X X X X X X X X X X X X X X X \n",
      "135  -  X X X X X   X X X X X X X X X X X X X X X X X X \n",
      "174  -  X X X X X X   X X X X X X X X X X X X X X X X X \n",
      "176  -  X X X X X X X   X X X X X X X X X X X X X X X X \n",
      "189  -  X X X X X X X X   X X X X X X X X X X X X X X X \n",
      "205  -  X X X X X X X X X   X X X X X X X X X X X X X X \n",
      "261  -  X X X X X X X X X X   X X X X X X X X X X X X X \n",
      "266  -  X X X X X X X X X X X   X X X X X X X X X X X X \n",
      "270  -  X X X X X X X X X X X X   X X X X X X X X X X X \n",
      "272  -  X X X X X X X X X X X X X   X X X X X X X X X X \n",
      "292  -  X X X X X X X X X X X X X X   X X X X X X X X X \n",
      "303  -  X X X X X X X X X X X X X X X   X X X X X X X X \n",
      "309  -  X X X X X X X X X X X X X X X X   X X X X X X X \n",
      "311  -  X X X X X X X X X X X X X X X X X   X X X X X X \n",
      "326  -  X X X X X X X X X X X X X X X X X X   X X X X X \n",
      "333  -  X X X X X X X X X X X X X X X X X X X   X X X X \n",
      "340  -  X X X X X X X X X X X X X X X X X X X X   X X X \n",
      "351  -  X X X X X X X X X X X X X X X X X X X X X   X X \n",
      "370  -  X X X X X X X X X X X X X X X X X X X X X X   X \n",
      "400  -  X X X X X X X X X X X X X X X X X X X X X X X   \n"
     ]
    },
    {
     "data": {
      "text/plain": [
       "(True, 53.1997, 24)"
      ]
     },
     "execution_count": 318,
     "metadata": {},
     "output_type": "execute_result"
    }
   ],
   "source": [
    "check(\"./output/heuristic-greedy-omp.out\", filename, True)[:-1]"
   ]
  },
  {
   "cell_type": "code",
   "execution_count": null,
   "metadata": {},
   "outputs": [],
   "source": [
    "subprocess.call([\"./output/heuristic-greedy-omp.out\", filename])"
   ]
  },
  {
   "cell_type": "code",
   "execution_count": null,
   "metadata": {},
   "outputs": [],
   "source": [
    "output = \"18, 20, 39, 68, 73, 85, 90, 92, 93, 108, 134, 135, 142, 150, 178, 186, 207, 221, 234, 252, 260, 262, 276, 304, 311, 348, 365, 380, 388\"\n",
    "args = output.split(\", \")\n",
    "\n",
    "subprocess.call([\"./output/view-clique.out\", filename, *args])\n",
    "subprocess.call([\"./output/check-clique.out\", filename, *args])"
   ]
  },
  {
   "cell_type": "code",
   "execution_count": null,
   "metadata": {},
   "outputs": [],
   "source": [
    "from pathlib import Path\n",
    "\n",
    "result = {}"
   ]
  },
  {
   "cell_type": "code",
   "execution_count": null,
   "metadata": {},
   "outputs": [],
   "source": [
    "result[\"C2000.5.clq\"] = None\n",
    "result[\"C1000.9.clq\"] = None\n",
    "result[\"C2000.9.clq\"] = None\n",
    "result[\"C4000.5.clq\"] = None\n",
    "result[\"keller6.clq\"] = None\n",
    "result[\"MANN_a81.clq\"] = None\n",
    "result[\"p_hat1500-3.clq\"] = None\n"
   ]
  },
  {
   "cell_type": "code",
   "execution_count": null,
   "metadata": {},
   "outputs": [],
   "source": [
    "for input in Path(\"test\").glob(\"*.clq\"):\n",
    "    if input.name in result:\n",
    "        continue\n",
    "\n",
    "    print(input.name, end=\"\\t\")\n",
    "\n",
    "    result[input.name] = check(\"./output/heuristic-greedy-omp.out\", input.as_posix())\n",
    "\n",
    "    print(*result[input.name])"
   ]
  },
  {
   "cell_type": "code",
   "execution_count": null,
   "metadata": {},
   "outputs": [],
   "source": [
    "for n, r in result.items():\n",
    "    if r is None:\n",
    "        continue\n",
    "\n",
    "    status, sptime, size, args = r\n",
    "\n",
    "    print(f\"{n}\\t{sptime: 10.4f} - {size}\\t{args}\")"
   ]
  },
  {
   "cell_type": "code",
   "execution_count": null,
   "metadata": {},
   "outputs": [],
   "source": []
  }
 ],
 "metadata": {
  "kernelspec": {
   "display_name": "Python 3",
   "language": "python",
   "name": "python3"
  },
  "language_info": {
   "codemirror_mode": {
    "name": "ipython",
    "version": 3
   },
   "file_extension": ".py",
   "mimetype": "text/x-python",
   "name": "python",
   "nbconvert_exporter": "python",
   "pygments_lexer": "ipython3",
   "version": "3.10.12"
  }
 },
 "nbformat": 4,
 "nbformat_minor": 2
}
